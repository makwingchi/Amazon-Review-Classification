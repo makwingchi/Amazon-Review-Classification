{
 "cells": [
  {
   "cell_type": "markdown",
   "metadata": {},
   "source": [
    "# Amazon Review Analysis and Classification\n",
    "\n",
    "The training set for this analysis is the text from 100,000 reviews from Amazon.com, their timestamps, and their star ratings. The high level goal of this analysis is to use the textual and temporal data to predict the star ratings."
   ]
  },
  {
   "cell_type": "code",
   "execution_count": 2,
   "metadata": {},
   "outputs": [],
   "source": [
    "# import stuff\n",
    "import numpy as np\n",
    "import pandas as pd\n",
    "import matplotlib.pyplot as plt\n",
    "from gensim import corpora\n",
    "from gensim.models import LsiModel, KeyedVectors\n",
    "import sklearn.model_selection as ms\n",
    "from sklearn.ensemble import RandomForestClassifier\n",
    "from datetime import *"
   ]
  },
  {
   "cell_type": "code",
   "execution_count": 3,
   "metadata": {},
   "outputs": [],
   "source": [
    "# read stuff\n",
    "reviews_dict = corpora.Dictionary.load(\"reviews.dict\")\n",
    "reviews_bow = corpora.MmCorpus('train_reviews.mm')\n",
    "reviews_times  = np.load('train_times.npy')\n",
    "reviews_times.shape = (len(reviews_bow),1)\n",
    "reviews_wc = corpora.MmCorpus('reviews_wc.mm')\n",
    "reviews_sppmi_300 = np.load('reviews_sppmi_300.npy')\n",
    "reviews_wv = KeyedVectors.load(\"word_vectors.wv\", mmap='r')\n",
    "y = np.vstack((np.repeat(1, 4000), np.repeat(2, 4000), np.repeat(3, 4000), np.repeat(4, 4000), np.repeat(5, 4000)))\n",
    "y = np.repeat(y, 5)"
   ]
  },
  {
   "cell_type": "markdown",
   "metadata": {},
   "source": [
    "## Step 1: Word vectors\n",
    "\n",
    "Performing several optimizations on a word-context shifted positive pointwise mutual information ($SPPMI$) matrix, including decomposing with SVD, is mathematically equivalent to a neural network that learns word embeddings using skip gram with negative sampling ($SGNS$).  We are going to implement each of these here and compare against a pure bag of words ($BOW$) model as a baseline.\n",
    "\n",
    "To begin, let's make a corpus out of a toy dataset: the 5 computer science and 4 math article titles. After lower casing, tokenizing, and stop wording, the corpus looks like `titles` in the cell below. Then, we create a dictionary and a sparse document-term matrix."
   ]
  },
  {
   "cell_type": "code",
   "execution_count": 4,
   "metadata": {},
   "outputs": [
    {
     "data": {
      "text/plain": [
       "[[(0, 1), (1, 1), (2, 1)],\n",
       " [(0, 1), (3, 1), (4, 1), (5, 1), (6, 1), (7, 1)],\n",
       " [(2, 1), (5, 1), (7, 1), (8, 1)],\n",
       " [(1, 1), (5, 2), (8, 1)],\n",
       " [(3, 1), (6, 1), (7, 1)],\n",
       " [(9, 1)],\n",
       " [(9, 1), (10, 1)],\n",
       " [(9, 1), (10, 1), (11, 1)],\n",
       " [(4, 1), (10, 1), (11, 1)]]"
      ]
     },
     "metadata": {},
     "output_type": "display_data"
    }
   ],
   "source": [
    "titles = [['human', 'interface', 'computer'],\n",
    "          ['survey', 'user', 'computer', 'system', 'response', 'time'],\n",
    "          ['eps', 'user', 'interface', 'system'],\n",
    "          ['system', 'human', 'system', 'eps'],\n",
    "          ['user', 'response', 'time'],\n",
    "          ['trees'],\n",
    "          ['graph', 'trees'],\n",
    "          ['graph', 'minors', 'trees'],\n",
    "          ['graph', 'minors', 'survey']]\n",
    "\n",
    "titles_dict = corpora.Dictionary(titles)\n",
    "titles_bow = [titles_dict.doc2bow(title) for title in titles]\n",
    "display(titles_bow)"
   ]
  },
  {
   "cell_type": "markdown",
   "metadata": {},
   "source": [
    "### Step 1.1: Sparse to dense\n",
    "\n",
    "To get the term-document matrix, we need to convert this matrix to its dense form. We will write a function `densify` that takes as input:\n",
    "\n",
    "1. a sparse matrix in the format of `titles_bow` above\n",
    "3. an integer number of columns\n",
    "\n",
    "and returns a NumPy array. Please note that `titles_bow` is a document-term matrix, not a term-document matrix, so we transpose it in the second cell below."
   ]
  },
  {
   "cell_type": "code",
   "execution_count": 5,
   "metadata": {},
   "outputs": [],
   "source": [
    "def densify(sparse, columns):\n",
    "    orig = np.zeros((len(sparse), columns))\n",
    "    count = 0\n",
    "    for i in sparse:\n",
    "        for j in i:\n",
    "            orig[count][j[0]] = j[1]\n",
    "        count += 1\n",
    "    \n",
    "    return orig"
   ]
  },
  {
   "cell_type": "code",
   "execution_count": 6,
   "metadata": {},
   "outputs": [
    {
     "name": "stdout",
     "output_type": "stream",
     "text": [
      "[[1. 1. 0. 0. 0. 0. 0. 0. 0.]\n",
      " [1. 0. 0. 1. 0. 0. 0. 0. 0.]\n",
      " [1. 0. 1. 0. 0. 0. 0. 0. 0.]\n",
      " [0. 1. 0. 0. 1. 0. 0. 0. 0.]\n",
      " [0. 1. 0. 0. 0. 0. 0. 0. 1.]\n",
      " [0. 1. 1. 2. 0. 0. 0. 0. 0.]\n",
      " [0. 1. 0. 0. 1. 0. 0. 0. 0.]\n",
      " [0. 1. 1. 0. 1. 0. 0. 0. 0.]\n",
      " [0. 0. 1. 1. 0. 0. 0. 0. 0.]\n",
      " [0. 0. 0. 0. 0. 1. 1. 1. 0.]\n",
      " [0. 0. 0. 0. 0. 0. 1. 1. 1.]\n",
      " [0. 0. 0. 0. 0. 0. 0. 1. 1.]]\n"
     ]
    }
   ],
   "source": [
    "td = densify(titles_bow, len(titles_dict)).transpose()\n",
    "print(td)"
   ]
  },
  {
   "cell_type": "code",
   "execution_count": 7,
   "metadata": {},
   "outputs": [
    {
     "name": "stdout",
     "output_type": "stream",
     "text": [
      "(12, 9)\n"
     ]
    }
   ],
   "source": [
    "print(td.shape)"
   ]
  },
  {
   "cell_type": "markdown",
   "metadata": {},
   "source": [
    "### Step 1.2: Counting words\n",
    "\n",
    "We will write a function `count_words` that takes as input:\n",
    "\n",
    "1. a dictionary in the format of `titles_dict` above\n",
    "2. a bag of words corpus in the format of `titles_bow` above\n",
    "\n",
    "and returns a list called `counts` that has the total occurrences of each word in the corpus, in the order of the original word indices."
   ]
  },
  {
   "cell_type": "code",
   "execution_count": 8,
   "metadata": {},
   "outputs": [],
   "source": [
    "def count_words(gsdict, gsbow):\n",
    "    orig = np.zeros((len(gsbow), len(gsdict)))\n",
    "    count = 0\n",
    "    for i in gsbow:\n",
    "        for j in i:\n",
    "            orig[count][j[0]] = j[1]\n",
    "        count += 1\n",
    "    \n",
    "    return np.sum(orig, axis=0).tolist()"
   ]
  },
  {
   "cell_type": "code",
   "execution_count": 9,
   "metadata": {},
   "outputs": [
    {
     "data": {
      "text/plain": [
       "12"
      ]
     },
     "metadata": {},
     "output_type": "display_data"
    }
   ],
   "source": [
    "titles_counts = count_words(titles_dict, titles_bow)\n",
    "display(len(titles_counts))"
   ]
  },
  {
   "cell_type": "code",
   "execution_count": 10,
   "metadata": {},
   "outputs": [
    {
     "data": {
      "text/plain": [
       "[2.0, 2.0, 2.0, 2.0, 2.0, 4.0, 2.0, 3.0, 2.0, 3.0, 3.0, 2.0]"
      ]
     },
     "metadata": {},
     "output_type": "display_data"
    }
   ],
   "source": [
    "display(titles_counts)"
   ]
  },
  {
   "cell_type": "markdown",
   "metadata": {},
   "source": [
    "The cell below makes the counts for the 100,000 Amazon reviews."
   ]
  },
  {
   "cell_type": "code",
   "execution_count": 11,
   "metadata": {},
   "outputs": [],
   "source": [
    "reviews_counts = count_words(reviews_dict, reviews_bow)"
   ]
  },
  {
   "cell_type": "markdown",
   "metadata": {},
   "source": [
    "### Step 1.3: The word-context matrix\n",
    "\n",
    "Now, we will write a function `word_context` that takes as input:\n",
    "\n",
    "1. a dictionary in the format of `titles_dict` above\n",
    "2. a corpus in the format of `titles` above\n",
    "3. a window size (integer)\n",
    "\n",
    "and creates a **sparse** word-context matrix."
   ]
  },
  {
   "cell_type": "code",
   "execution_count": 12,
   "metadata": {},
   "outputs": [],
   "source": [
    "def word_context(gsdict, gscorpus, window):\n",
    "    orig = np.zeros((len(gsdict), len(gsdict)))\n",
    "    \n",
    "    for doc in gscorpus:\n",
    "        for i in range(len(doc)):\n",
    "            for j in range(i-window, i+window+1):\n",
    "                if j >=0 and j <= len(doc)-1 and j != i:\n",
    "                    #print(j)\n",
    "                    context = gsdict.doc2idx([doc[i]])[0]\n",
    "                    #print(context)\n",
    "                    word = gsdict.doc2idx([doc[j]])[0]\n",
    "                    #print(word)\n",
    "                    orig[word][context] += 1\n",
    "    \n",
    "    lst1 = []\n",
    "    for i in orig:\n",
    "        lst2 = []\n",
    "        for word, count in enumerate(i):\n",
    "            if count > 0:\n",
    "                lst2.append((word, count))\n",
    "        \n",
    "        lst1.append(lst2)\n",
    "    \n",
    "    return lst1"
   ]
  },
  {
   "cell_type": "code",
   "execution_count": 13,
   "metadata": {},
   "outputs": [
    {
     "data": {
      "text/plain": [
       "[[(1, 1.0), (2, 1.0), (3, 1.0), (4, 1.0), (5, 1.0), (7, 1.0)],\n",
       " [(0, 1.0), (2, 1.0), (5, 2.0), (8, 1.0)],\n",
       " [(0, 1.0), (1, 1.0), (5, 1.0), (7, 1.0), (8, 1.0)],\n",
       " [(0, 1.0), (5, 1.0), (6, 2.0), (7, 1.0)],\n",
       " [(0, 1.0), (7, 1.0), (10, 1.0), (11, 1.0)],\n",
       " [(0, 1.0),\n",
       "  (1, 2.0),\n",
       "  (2, 1.0),\n",
       "  (3, 1.0),\n",
       "  (5, 2.0),\n",
       "  (6, 1.0),\n",
       "  (7, 2.0),\n",
       "  (8, 1.0)],\n",
       " [(3, 2.0), (5, 1.0), (7, 1.0)],\n",
       " [(0, 1.0), (2, 1.0), (3, 1.0), (4, 1.0), (5, 2.0), (6, 1.0), (8, 1.0)],\n",
       " [(1, 1.0), (2, 1.0), (5, 1.0), (7, 1.0)],\n",
       " [(10, 2.0), (11, 1.0)],\n",
       " [(4, 1.0), (9, 2.0), (11, 2.0)],\n",
       " [(4, 1.0), (9, 1.0), (10, 2.0)]]"
      ]
     },
     "metadata": {},
     "output_type": "display_data"
    }
   ],
   "source": [
    "titles_wc = word_context(titles_dict, titles, 2)\n",
    "display(titles_wc)"
   ]
  },
  {
   "cell_type": "code",
   "execution_count": 14,
   "metadata": {},
   "outputs": [
    {
     "data": {
      "text/plain": [
       "array([[0., 1., 1., 1., 1., 1., 0., 1., 0., 0., 0., 0.],\n",
       "       [1., 0., 1., 0., 0., 2., 0., 0., 1., 0., 0., 0.],\n",
       "       [1., 1., 0., 0., 0., 1., 0., 1., 1., 0., 0., 0.],\n",
       "       [1., 0., 0., 0., 0., 1., 2., 1., 0., 0., 0., 0.],\n",
       "       [1., 0., 0., 0., 0., 0., 0., 1., 0., 0., 1., 1.],\n",
       "       [1., 2., 1., 1., 0., 2., 1., 2., 1., 0., 0., 0.],\n",
       "       [0., 0., 0., 2., 0., 1., 0., 1., 0., 0., 0., 0.],\n",
       "       [1., 0., 1., 1., 1., 2., 1., 0., 1., 0., 0., 0.],\n",
       "       [0., 1., 1., 0., 0., 1., 0., 1., 0., 0., 0., 0.],\n",
       "       [0., 0., 0., 0., 0., 0., 0., 0., 0., 0., 2., 1.],\n",
       "       [0., 0., 0., 0., 1., 0., 0., 0., 0., 2., 0., 2.],\n",
       "       [0., 0., 0., 0., 1., 0., 0., 0., 0., 1., 2., 0.]])"
      ]
     },
     "metadata": {},
     "output_type": "display_data"
    }
   ],
   "source": [
    "display(densify(titles_wc, len(titles_dict))) "
   ]
  },
  {
   "cell_type": "markdown",
   "metadata": {},
   "source": [
    "### Step 1.4: Enhancing the word-context matrix\n",
    "\n",
    "There are a number of possible enhancements for word-context matrices. Here, we will write a function `sppmi` that takes as input:\n",
    "\n",
    "1. a sparse word-context matrix in the format of `titles_wc` above\n",
    "3. a counts dictionary\n",
    "4. a float `logk`\n",
    "\n",
    "and returns a new sparse word-context matrix with the values in the matrix replaced by shifted positive pointwise mutual informations ($SPPMI$). The formula is:\n",
    "\n",
    "$$SPPMI = \\max(\\log (\\frac{\\#(w,c) |D|}{\\#(w)\\#(c)}) - \\log(k), 0)$$\n",
    "\n",
    "where $\\#(w,c)$ is the count of word $w$ in context $c$ (the original count from the last section), $\\#(w)$ is the count of word $w$, $\\#(c)$ is the count of word $c$ (both come from `titles_counts`), $|D|$ is the length of the corpus, and $k$ is a free hyperparameter."
   ]
  },
  {
   "cell_type": "code",
   "execution_count": 15,
   "metadata": {},
   "outputs": [],
   "source": [
    "def sppmi(gswc, counts, logk):\n",
    "    word = 0\n",
    "    d = len(counts)\n",
    "    lst1 = []\n",
    "    for row in gswc:\n",
    "        lst2 = []\n",
    "        for col in row:\n",
    "            context = col[0]\n",
    "            wc_count = col[1]\n",
    "            w_count, c_count = counts[word], counts[context]\n",
    "            left, right = np.log((wc_count*d)/(w_count*c_count)) - logk, 0\n",
    "            if left >= right:\n",
    "                result = left\n",
    "            else:\n",
    "                result = right\n",
    "            \n",
    "            lst2.append((context, result))\n",
    "        \n",
    "        word += 1\n",
    "        lst1.append(lst2)\n",
    "    \n",
    "    #print(lst1)\n",
    "    \n",
    "    return lst1"
   ]
  },
  {
   "cell_type": "code",
   "execution_count": 16,
   "metadata": {},
   "outputs": [],
   "source": [
    "titles_sppmi = sppmi(titles_wc, titles_counts, 0)"
   ]
  },
  {
   "cell_type": "code",
   "execution_count": 17,
   "metadata": {},
   "outputs": [
    {
     "data": {
      "text/plain": [
       "array([[0. , 1.1, 1.1, 1.1, 1.1, 0.4, 0. , 0.7, 0. , 0. , 0. , 0. ],\n",
       "       [1.1, 0. , 1.1, 0. , 0. , 1.1, 0. , 0. , 1.1, 0. , 0. , 0. ],\n",
       "       [1.1, 1.1, 0. , 0. , 0. , 0.4, 0. , 0.7, 1.1, 0. , 0. , 0. ],\n",
       "       [1.1, 0. , 0. , 0. , 0. , 0.4, 1.8, 0.7, 0. , 0. , 0. , 0. ],\n",
       "       [1.1, 0. , 0. , 0. , 0. , 0. , 0. , 0.7, 0. , 0. , 0.7, 1.1],\n",
       "       [0.4, 1.1, 0.4, 0.4, 0. , 0.4, 0.4, 0.7, 0.4, 0. , 0. , 0. ],\n",
       "       [0. , 0. , 0. , 1.8, 0. , 0.4, 0. , 0.7, 0. , 0. , 0. , 0. ],\n",
       "       [0.7, 0. , 0.7, 0.7, 0.7, 0.7, 0.7, 0. , 0.7, 0. , 0. , 0. ],\n",
       "       [0. , 1.1, 1.1, 0. , 0. , 0.4, 0. , 0.7, 0. , 0. , 0. , 0. ],\n",
       "       [0. , 0. , 0. , 0. , 0. , 0. , 0. , 0. , 0. , 0. , 1. , 0.7],\n",
       "       [0. , 0. , 0. , 0. , 0.7, 0. , 0. , 0. , 0. , 1. , 0. , 1.4],\n",
       "       [0. , 0. , 0. , 0. , 1.1, 0. , 0. , 0. , 0. , 0.7, 1.4, 0. ]])"
      ]
     },
     "metadata": {},
     "output_type": "display_data"
    }
   ],
   "source": [
    "titles_dense_sppmi = densify(titles_sppmi, len(titles_dict))\n",
    "display(titles_dense_sppmi.round(1))"
   ]
  },
  {
   "cell_type": "markdown",
   "metadata": {},
   "source": [
    "The cell below converts the counts to $SPPMI$s in the word-context matrix for the 100,000 Amazon reviews."
   ]
  },
  {
   "cell_type": "code",
   "execution_count": 18,
   "metadata": {},
   "outputs": [],
   "source": [
    "reviews_sppmi = sppmi(reviews_wc, reviews_counts, np.log(5))"
   ]
  },
  {
   "cell_type": "markdown",
   "metadata": {},
   "source": [
    "### Step 1.5: Sparse SVD/PCA/LSA/LSI\n",
    "\n",
    "In the cell below, we write a function called `reconstruction` that takes as input:\n",
    "\n",
    "1. a sparse matrix\n",
    "2. a gensim dictionary\n",
    "2. a cutoff for PCA\n",
    "\n",
    "The function will compute the norm of the difference of the reconstructed matrix and the original, and return that dividing by the norm of the original."
   ]
  },
  {
   "cell_type": "code",
   "execution_count": 19,
   "metadata": {},
   "outputs": [],
   "source": [
    "def reconstruction(sparse, gsdict, cutoff):\n",
    "    model = LsiModel(sparse, id2word=gsdict, num_topics=cutoff)\n",
    "    u = model.projection.u\n",
    "    s = np.diag(model.projection.s)\n",
    "    v = (densify(model[sparse], cutoff)/model.projection.s).T\n",
    "    \n",
    "    new_matrix = u@s@v\n",
    "    densified_sparse = densify(sparse, len(gsdict))\n",
    "    \n",
    "    diff = new_matrix.T - densified_sparse\n",
    "    \n",
    "    return np.linalg.norm(diff) / np.linalg.norm(densified_sparse)\n",
    "\n",
    "cutoff = 2"
   ]
  },
  {
   "cell_type": "code",
   "execution_count": 20,
   "metadata": {},
   "outputs": [
    {
     "name": "stdout",
     "output_type": "stream",
     "text": [
      "The reconstruction error with 2 components on the the toy dataset is 0.6569296073921537\n"
     ]
    }
   ],
   "source": [
    "error = reconstruction(titles_bow, titles_dict, cutoff)\n",
    "print(\"The reconstruction error with\", cutoff, \"components on the the toy dataset is\", error)"
   ]
  },
  {
   "cell_type": "code",
   "execution_count": 21,
   "metadata": {},
   "outputs": [
    {
     "name": "stdout",
     "output_type": "stream",
     "text": [
      "The reconstruction error with 9 components on the the toy dataset is 1.1298655177653523e-15\n"
     ]
    }
   ],
   "source": [
    "cutoff = 9\n",
    "error = reconstruction(titles_bow, titles_dict, cutoff)\n",
    "print(\"The reconstruction error with\", cutoff, \"components on the the toy dataset is\", error)"
   ]
  },
  {
   "cell_type": "markdown",
   "metadata": {},
   "source": [
    "### Step 1.6: Assembling the dense representation\n",
    "\n",
    "The last step in this process is to combine our two datasets, namely the document-term matrix and the word-context matrix. The appeal is that rather than reducing dimensionality by choosing a very small vocabulary, we can select relevant features from a vector space that contains all of the words. However, this requires a heavy assumption: a document representation is the sum of the representations of its words. This does not allow any non-compositionality of language and it makes each word equally important.\n",
    "\n",
    "In the cell below, we will write a function `vec2doc` that takes as input:\n",
    "\n",
    "1. a bag of words corpus in the format of `titles_bow` above\n",
    "2. a list of word vectors in proper order (by dictionary index) like `reviews_wv` above\n",
    "\n",
    "and returns a dense matrix. This matrix contains one vector per document which was computed by summing all of the vectors corresponding to the words in the document (including repeats)."
   ]
  },
  {
   "cell_type": "code",
   "execution_count": 22,
   "metadata": {},
   "outputs": [],
   "source": [
    "def vec2doc(gsbow, vectors):\n",
    "    y_size = vectors.shape[1]\n",
    "    length = len(gsbow)\n",
    "    orig = np.zeros((length, y_size))\n",
    "    \n",
    "    i = 0\n",
    "    for doc in gsbow:\n",
    "        for word in doc:\n",
    "            #print(word)\n",
    "            orig[i] = orig[i] + vectors[word[0]] * word[1]\n",
    "        i += 1\n",
    "            \n",
    "    return orig"
   ]
  },
  {
   "cell_type": "code",
   "execution_count": 23,
   "metadata": {},
   "outputs": [],
   "source": [
    "vecs_sppmi = vec2doc(reviews_bow, reviews_sppmi_300)"
   ]
  },
  {
   "cell_type": "code",
   "execution_count": 24,
   "metadata": {},
   "outputs": [
    {
     "data": {
      "text/plain": [
       "(100000, 300)"
      ]
     },
     "metadata": {},
     "output_type": "display_data"
    }
   ],
   "source": [
    "display(vecs_sppmi.shape)"
   ]
  },
  {
   "cell_type": "markdown",
   "metadata": {},
   "source": [
    "## Step 2: Feature selection and hyperparameter tuning\n",
    "\n",
    "### Step 2.1: Assembling the other dense representation\n",
    "\n",
    "In the cell below, we will write a function `use_dict` that takes as input:\n",
    "\n",
    "1. a dictionary in the format of `titles_dict` above\n",
    "2. `KeyedVector word2vec` embeddings, as in `reviews_wv`\n",
    "\n",
    "and returns a list of vectors indexed using the input dictionary."
   ]
  },
  {
   "cell_type": "code",
   "execution_count": 25,
   "metadata": {},
   "outputs": [],
   "source": [
    "def use_dict(gsdict, vectors):\n",
    "    orig = np.zeros((len(gsdict), 300))\n",
    "    \n",
    "    for i in range(len(reviews_dict)):\n",
    "        word = gsdict[i]\n",
    "        if word in vectors:\n",
    "            orig[i] = vectors[word]\n",
    "        \n",
    "    return orig"
   ]
  },
  {
   "cell_type": "code",
   "execution_count": 26,
   "metadata": {},
   "outputs": [],
   "source": [
    "reviews_sgns_300 = use_dict(reviews_dict, reviews_wv)\n",
    "vecs_sgns = vec2doc(reviews_bow, reviews_sgns_300)"
   ]
  },
  {
   "cell_type": "markdown",
   "metadata": {},
   "source": [
    "### Step 2.2: PCA on pure BOW\n",
    "\n",
    "While the $SPPMI$ and $SGNS$ models are already dimensionality reduced, it would be a good idea to also run PCA on the $BOW$ baseline. Here, we will train a gensim `LsiModel` on `reviews_bow` using `reviews_dict` as the dictionary and 1000 components."
   ]
  },
  {
   "cell_type": "code",
   "execution_count": 27,
   "metadata": {},
   "outputs": [],
   "source": [
    "max_cutoff = 1000\n",
    "\n",
    "model = LsiModel(reviews_bow, max_cutoff, reviews_dict)"
   ]
  },
  {
   "cell_type": "markdown",
   "metadata": {},
   "source": [
    "The code below is to plot the explained variance versus number of components."
   ]
  },
  {
   "cell_type": "code",
   "execution_count": 28,
   "metadata": {},
   "outputs": [
    {
     "data": {
      "image/png": "[encoded data removed]",
      "text/plain": [
       "<Figure size 432x288 with 1 Axes>"
      ]
     },
     "metadata": {},
     "output_type": "display_data"
    }
   ],
   "source": [
    "def plot_variance_vs_features(singular_values, cutoff):\n",
    "    evr = np.array([singular_values[i]**2 / sum(singular_values**2) for i in range(cutoff)])\n",
    "    var = np.cumsum(evr*100)\n",
    "    plt.ylabel('% Variance Explained')\n",
    "    plt.xlabel('# of Features')\n",
    "    plt.title('PCA Analysis')\n",
    "    plt.style.context('seaborn-whitegrid')\n",
    "    plt.plot(var)\n",
    "    \n",
    "plot_variance_vs_features(model.projection.s, max_cutoff)"
   ]
  },
  {
   "cell_type": "markdown",
   "metadata": {},
   "source": [
    "The good news is this curve is very steep in the beginning, which shows that a lot of information is conveyed in the first components. However, there is no plateau that we can use to choose a cutoff.\n",
    "\n",
    "**So, instead, we will break off a validaton set and use classifier performance to tune this hyperparameter.**"
   ]
  },
  {
   "cell_type": "code",
   "execution_count": 29,
   "metadata": {},
   "outputs": [],
   "source": [
    "def evaluate_model(X, review_times, y):\n",
    "    X = np.hstack((X, review_times))\n",
    "    X_train, X_test, y_train, y_test = ms.train_test_split(X, y, test_size=0.2, random_state = 195)\n",
    "    rfor = RandomForestClassifier(n_estimators=51, random_state=195)\n",
    "    rfor.fit(X_train, y_train)\n",
    "    return rfor.score(X_test, y_test)"
   ]
  },
  {
   "cell_type": "markdown",
   "metadata": {},
   "source": [
    "### Step 2.3: Choosing the number of components via the downstream task\n",
    "\n",
    "In some ways, this method of choosing the number of components is even better than the plateau method, because we are optimizing directly on the machine learning task rather than something intrinsic to the dataset. In the cell below, we will call `evaluate model` on models between 10 and 30 PCA components. For each model, we will train an `LsiModel`, compute the $V$ matrix (right singular vectors), call `densify` on that, and pass the dense matrix to evaluate model."
   ]
  },
  {
   "cell_type": "code",
   "execution_count": 31,
   "metadata": {},
   "outputs": [],
   "source": [
    "results = []\n",
    "for i in range(10,31):\n",
    "    model = LsiModel(reviews_bow, i, reviews_dict)\n",
    "    densified_v = densify(model[reviews_bow], i)\n",
    "    results.append(evaluate_model(densified_v, reviews_times, y))"
   ]
  },
  {
   "cell_type": "code",
   "execution_count": 32,
   "metadata": {},
   "outputs": [
    {
     "data": {
      "text/plain": [
       "[0.6691,\n",
       " 0.6662,\n",
       " 0.66485,\n",
       " 0.6719,\n",
       " 0.676,\n",
       " 0.6805,\n",
       " 0.68345,\n",
       " 0.69185,\n",
       " 0.6941,\n",
       " 0.68765,\n",
       " 0.6906,\n",
       " 0.6858,\n",
       " 0.6884,\n",
       " 0.6874,\n",
       " 0.6915,\n",
       " 0.69165,\n",
       " 0.6946,\n",
       " 0.6894,\n",
       " 0.69045,\n",
       " 0.6908,\n",
       " 0.6955]"
      ]
     },
     "metadata": {},
     "output_type": "display_data"
    }
   ],
   "source": [
    "display(results)"
   ]
  },
  {
   "cell_type": "code",
   "execution_count": 30,
   "metadata": {},
   "outputs": [
    {
     "name": "stdout",
     "output_type": "stream",
     "text": [
      "0.77575\n"
     ]
    }
   ],
   "source": [
    "# final_sppmi_test\n",
    "final_sppmi = evaluate_model(vecs_sppmi, reviews_times, y)\n",
    "print(final_sppmi)"
   ]
  },
  {
   "cell_type": "code",
   "execution_count": 33,
   "metadata": {},
   "outputs": [
    {
     "name": "stdout",
     "output_type": "stream",
     "text": [
      "0.7404\n"
     ]
    }
   ],
   "source": [
    "# final_sgns_test (5 points)\n",
    "final_sgns = evaluate_model(vecs_sgns, reviews_times, y)\n",
    "print(final_sgns)"
   ]
  },
  {
   "cell_type": "markdown",
   "metadata": {},
   "source": [
    "---"
   ]
  },
  {
   "cell_type": "markdown",
   "metadata": {},
   "source": [
    "Note: This is one of the assignments of CIS 545 Big Data Analytics at University of Pennsylvania during Spring 2019."
   ]
  }
 ],
 "metadata": {
  "kernelspec": {
   "display_name": "Python 3",
   "language": "python",
   "name": "python3"
  },
  "language_info": {
   "codemirror_mode": {
    "name": "ipython",
    "version": 3
   },
   "file_extension": ".py",
   "mimetype": "text/x-python",
   "name": "python",
   "nbconvert_exporter": "python",
   "pygments_lexer": "ipython3",
   "version": "3.6.6"
  }
 },
 "nbformat": 4,
 "nbformat_minor": 2
}
